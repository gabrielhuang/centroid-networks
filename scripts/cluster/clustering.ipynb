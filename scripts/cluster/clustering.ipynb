{
 "cells": [
  {
   "cell_type": "code",
   "execution_count": 160,
   "metadata": {},
   "outputs": [
    {
     "data": {
      "text/plain": [
       "<torch._C.Generator at 0x102ae7070>"
      ]
     },
     "execution_count": 160,
     "metadata": {},
     "output_type": "execute_result"
    }
   ],
   "source": [
    "import torch\n",
    "import numpy as np\n",
    "%matplotlib inline\n",
    "import matplotlib.pyplot as plt\n",
    "\n"
   ]
  },
  {
   "cell_type": "code",
   "execution_count": 161,
   "metadata": {},
   "outputs": [],
   "source": [
    "def generate_data(n_components=5, n_samples=100):\n",
    "    # Generate means\n",
    "    means = torch.rand(n_components, 2)\n",
    "    # Generate variances\n",
    "    variances = 0.03 * torch.ones((n_components,))\n",
    "    # Generate X\n",
    "    X = []\n",
    "    Z = []\n",
    "    for z in xrange(n_components):\n",
    "        x = means[z] + variances[z] * torch.randn(n_samples, 2)\n",
    "        X.append(x)\n",
    "        Z.append(z*torch.ones(n_samples).long())\n",
    "    X = torch.cat(X, 0)\n",
    "    Z = torch.cat(Z, 0)\n",
    "    return X, Z\n",
    "\n",
    "def plot_samples(X, Z=None):\n",
    "    plt.axis('equal')\n",
    "    if Z is not None:\n",
    "        z_max = Z.max()\n",
    "        for z in xrange(z_max+1):\n",
    "            X_z = X[Z==z]\n",
    "            plt.scatter(X_z.numpy()[:,0], X_z.numpy()[:,1], label=z)\n",
    "        plt.legend()\n",
    "    else:\n",
    "        plt.scatter(X.numpy()[:,0], X.numpy()[:,1])"
   ]
  },
  {
   "cell_type": "code",
   "execution_count": 185,
   "metadata": {},
   "outputs": [
    {
     "data": {
      "image/png": "[encoded data removed]",
      "text/plain": [
       "<Figure size 432x288 with 1 Axes>"
      ]
     },
     "metadata": {},
     "output_type": "display_data"
    }
   ],
   "source": [
    "torch.manual_seed(7)\n",
    "X, Z = generate_data()\n",
    "\n",
    "plot_samples(X, Z)"
   ]
  },
  {
   "cell_type": "markdown",
   "metadata": {},
   "source": [
    "# K-means"
   ]
  },
  {
   "cell_type": "code",
   "execution_count": 186,
   "metadata": {},
   "outputs": [
    {
     "data": {
      "text/plain": [
       "tensor([[  0,   8],\n",
       "        [  8,   0],\n",
       "        [ 32,   8]])"
      ]
     },
     "execution_count": 186,
     "metadata": {},
     "output_type": "execute_result"
    }
   ],
   "source": [
    "def get_pairwise_distances(m, n):\n",
    "    assert m.size()[1] == n.size()[1]\n",
    "    assert len(m.size()) == 2 and len(n.size()) == 2\n",
    "    distance_matrix = ((m[:, :, None] - n.t()[None, :, :])**2).sum(1)\n",
    "    return distance_matrix\n",
    "\n",
    "# Example\n",
    "m = torch.tensor([\n",
    "    [1, 2],\n",
    "    [3, 4],\n",
    "    [5, 6]])\n",
    "\n",
    "n = torch.tensor([\n",
    "    [1, 2],\n",
    "    [3, 4]])\n",
    "\n",
    "get_pairwise_distances(m, n)"
   ]
  },
  {
   "cell_type": "code",
   "execution_count": 189,
   "metadata": {
    "scrolled": true
   },
   "outputs": [],
   "source": [
    "# Initialize\n",
    "n_components = 5\n",
    "#centroids = torch.rand(n_components, 2)\n",
    "# initialize to 5 first points\n",
    "centroids = X[:5].clone()\n",
    "iterations = 15\n",
    "for iteration in xrange(iterations):\n",
    "    # Expectation\n",
    "    distances = get_pairwise_distances(X, centroids)\n",
    "    __, assignments = torch.min(distances, 1)\n",
    "    # Minimization\n",
    "    for i in xrange(n_components):\n",
    "        centroids[i] = X[assignments == i].mean(0)"
   ]
  },
  {
   "cell_type": "code",
   "execution_count": 190,
   "metadata": {},
   "outputs": [
    {
     "data": {
      "image/png": "[encoded data removed]",
      "text/plain": [
       "<Figure size 432x288 with 1 Axes>"
      ]
     },
     "metadata": {},
     "output_type": "display_data"
    }
   ],
   "source": [
    "# Plot centroids\n",
    "plt.figure()\n",
    "plot_samples(X)\n",
    "plot_samples(centroids)"
   ]
  },
  {
   "cell_type": "markdown",
   "metadata": {},
   "source": [
    "# Wasserstein Clustering"
   ]
  },
  {
   "cell_type": "code",
   "execution_count": 248,
   "metadata": {
    "scrolled": false
   },
   "outputs": [
    {
     "name": "stdout",
     "output_type": "stream",
     "text": [
      "tensor(1.00000e-44 *\n",
      "       3.9236)\n"
     ]
    }
   ],
   "source": [
    "def compute_sinkhorn(m, r=None, c=None, regularization=100., iterations=40):\n",
    "    '''\n",
    "    pairwise_distances: (batch, batch')\n",
    "    r: (batch, dims) distribution (histogram)\n",
    "    c: (batch', dims) distribution (histogram)\n",
    "    '''\n",
    "    # If no distributions are given, consider two uniform histograms\n",
    "    if r is None:\n",
    "        r = torch.ones(m.size()[0]) / m.size()[0]\n",
    "    if c is None:\n",
    "        c = torch.ones(m.size()[1]) / m.size()[1]\n",
    "    \n",
    "    # Initialize dual variable v (u is implicitly defined in the loop)\n",
    "    v = torch.ones(m.size()[1])\n",
    "    \n",
    "    # Exponentiate the pairwise distance matrix\n",
    "    K = torch.exp(-regularization * m)\n",
    "    \n",
    "    # Main loop\n",
    "    for i in xrange(iterations):\n",
    "        # Kdiag(v)_ij = sum_k K_ik diag(v)_kj = K_ij v_j\n",
    "        # Pij = u_i K_ij v_j\n",
    "        # sum_j Pij = u_i sum_j K_ij v_j = u_i (Kv)_i = r_i\n",
    "        # -> u_i = r_i / (Kv)_i\n",
    "        # K * v[None, :]\n",
    "        \n",
    "        # Match r marginals\n",
    "        u = r / torch.matmul(K, v)\n",
    "\n",
    "        # Match c marginals\n",
    "        v = c / torch.matmul(u, K)\n",
    "  \n",
    "        #print 'P', P\n",
    "        #print '~r', P.sum(1)\n",
    "        #print '~c', P.sum(0)\n",
    "        #print 'u', u\n",
    "        #print 'v', v        \n",
    "    # Compute optimal plan, cost, return everything\n",
    "    P = u[:, None] * K * v[None, :]  # transport plan\n",
    "    dst = (P * m).sum()\n",
    "    \n",
    "    return dst, P, u, v\n",
    "\n",
    "m = torch.tensor([[0,1],[1,0]]).float()\n",
    "dst, P, u, v = compute_sinkhorn(m, regularization=100.)\n",
    "print dst"
   ]
  },
  {
   "cell_type": "code",
   "execution_count": 337,
   "metadata": {},
   "outputs": [
    {
     "name": "stdout",
     "output_type": "stream",
     "text": [
      "tensor([[ 0.5928,  0.2284],\n",
      "        [ 0.5532,  0.1814],\n",
      "        [ 0.5364,  0.1892],\n",
      "        [ 0.4874,  0.1891],\n",
      "        [ 0.5238,  0.2226]])\n",
      "tensor([[ 0.5948,  0.6909],\n",
      "        [ 0.4777,  0.3454],\n",
      "        [ 0.3756,  0.4636],\n",
      "        [ 0.2334,  0.5298],\n",
      "        [ 0.3214,  0.7330]])\n",
      "tensor([[ 0.6565,  0.6621],\n",
      "        [ 0.5337,  0.1987],\n",
      "        [ 0.2415,  0.4504],\n",
      "        [ 0.2032,  0.5912],\n",
      "        [ 0.3617,  0.8492]])\n",
      "tensor([[ 0.6627,  0.6573],\n",
      "        [ 0.5338,  0.1989],\n",
      "        [ 0.2319,  0.4322],\n",
      "        [ 0.2062,  0.6182],\n",
      "        [ 0.3679,  0.8553]])\n",
      "tensor([[ 0.6627,  0.6573],\n",
      "        [ 0.5338,  0.1989],\n",
      "        [ 0.2322,  0.4271],\n",
      "        [ 0.2060,  0.6237],\n",
      "        [ 0.3681,  0.8556]])\n",
      "tensor([[ 0.6627,  0.6573],\n",
      "        [ 0.5338,  0.1989],\n",
      "        [ 0.2323,  0.4263],\n",
      "        [ 0.2059,  0.6246],\n",
      "        [ 0.3681,  0.8556]])\n",
      "tensor([[ 0.6627,  0.6573],\n",
      "        [ 0.5338,  0.1989],\n",
      "        [ 0.2323,  0.4262],\n",
      "        [ 0.2059,  0.6247],\n",
      "        [ 0.3681,  0.8556]])\n",
      "tensor([[ 0.6627,  0.6573],\n",
      "        [ 0.5338,  0.1989],\n",
      "        [ 0.2323,  0.4262],\n",
      "        [ 0.2059,  0.6247],\n",
      "        [ 0.3681,  0.8556]])\n"
     ]
    }
   ],
   "source": [
    "# Initialize\n",
    "n_components = 5\n",
    "# initialize to 5 first points\n",
    "centroids = X[:5].clone()\n",
    "#centroids = torch.zeros_like(X[:5])  # will get stuck\n",
    "iterations = 8\n",
    "for iteration in xrange(iterations):\n",
    "    # Expectation - Compute Sinkhorn distance\n",
    "    distances = get_pairwise_distances(X, centroids)\n",
    "    dst, P, u, v = compute_sinkhorn(distances, regularization=100.)\n",
    "    print centroids\n",
    "    # P_ij / sum_i P_ij is soft-assignment of cluster j\n",
    "    assignments = P / P.sum(0, keepdim=True)\n",
    "\n",
    "    # Minimization\n",
    "    centroids = torch.matmul(assignments.t(), X)"
   ]
  },
  {
   "cell_type": "code",
   "execution_count": 338,
   "metadata": {},
   "outputs": [
    {
     "data": {
      "image/png": "[encoded data removed]",
      "text/plain": [
       "<Figure size 432x288 with 1 Axes>"
      ]
     },
     "metadata": {},
     "output_type": "display_data"
    }
   ],
   "source": [
    "# Plot centroids\n",
    "plt.figure()\n",
    "plot_samples(X)\n",
    "plot_samples(centroids)"
   ]
  }
 ],
 "metadata": {
  "kernelspec": {
   "display_name": "Python 2",
   "language": "python",
   "name": "python2"
  },
  "language_info": {
   "codemirror_mode": {
    "name": "ipython",
    "version": 2
   },
   "file_extension": ".py",
   "mimetype": "text/x-python",
   "name": "python",
   "nbconvert_exporter": "python",
   "pygments_lexer": "ipython2",
   "version": "2.7.15"
  }
 },
 "nbformat": 4,
 "nbformat_minor": 2
}
